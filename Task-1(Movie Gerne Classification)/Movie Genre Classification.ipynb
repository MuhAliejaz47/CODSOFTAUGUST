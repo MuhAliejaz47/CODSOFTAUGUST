{
 "cells": [
  {
   "cell_type": "code",
   "execution_count": 101,
   "metadata": {},
   "outputs": [],
   "source": [
    "import numpy as np\n",
    "import pandas as pd\n",
    "import matplotlib.pyplot as ply"
   ]
  },
  {
   "cell_type": "code",
   "execution_count": 102,
   "metadata": {},
   "outputs": [],
   "source": [
    "with open('train_data.txt', 'r', encoding='utf-8') as file:\n",
    "    lines = file.readlines()"
   ]
  },
  {
   "cell_type": "code",
   "execution_count": 103,
   "metadata": {},
   "outputs": [
    {
     "name": "stdout",
     "output_type": "stream",
     "text": [
      "      Numbering                               Name of Movie        Genre  \\\n",
      "0             1                Oscar et la dame rose (2009)        drama   \n",
      "1             2                                Cupid (1997)     thriller   \n",
      "2             3            Young, Wild and Wonderful (1980)        adult   \n",
      "3             4                       The Secret Sin (1915)        drama   \n",
      "4             5                      The Unrecovered (2007)        drama   \n",
      "...         ...                                         ...          ...   \n",
      "54209     54210                             \"Bonino\" (1953)       comedy   \n",
      "54210     54211                 Dead Girls Don't Cry (????)       horror   \n",
      "54211     54212   Ronald Goedemondt: Ze bestaan echt (2008)  documentary   \n",
      "54212     54213                    Make Your Own Bed (1944)       comedy   \n",
      "54213     54214  Nature's Fury: Storm of the Century (2006)      history   \n",
      "\n",
      "                                             Description  \n",
      "0      Listening in to a conversation between his doc...  \n",
      "1      A brother and sister with a past incestuous re...  \n",
      "2      As the bus empties the students for their fiel...  \n",
      "3      To help their unemployed father make ends meet...  \n",
      "4      The film's title refers not only to the un-rec...  \n",
      "...                                                  ...  \n",
      "54209  This short-lived NBC live sitcom centered on B...  \n",
      "54210  The NEXT Generation of EXPLOITATION. The siste...  \n",
      "54211  Ze bestaan echt, is a stand-up comedy about gr...  \n",
      "54212  Walter and Vivian live in the country and have...  \n",
      "54213  On Labor Day Weekend, 1935, the most intense h...  \n",
      "\n",
      "[54214 rows x 4 columns]\n"
     ]
    }
   ],
   "source": [
    "with open('train_data.txt', 'r', encoding='utf-8') as file:\n",
    "    lines = file.readlines()\n",
    "\n",
    "# Extract movie details from each line and create a list of dictionaries\n",
    "data = []\n",
    "for line in lines:\n",
    "    parts = line.strip().split(' ::: ')\n",
    "    movie_data = {\n",
    "        'Numbering': parts[0],\n",
    "        'Name of Movie': parts[1],\n",
    "        'Genre': parts[2],\n",
    "        'Description': parts[3]\n",
    "    }\n",
    "    data.append(movie_data)\n",
    "\n",
    "# Create a pandas DataFrame\n",
    "df = pd.DataFrame(data)\n",
    "\n",
    "# Print the DataFrame\n",
    "print(df)\n"
   ]
  },
  {
   "cell_type": "code",
   "execution_count": 104,
   "metadata": {},
   "outputs": [
    {
     "name": "stdout",
     "output_type": "stream",
     "text": [
      "      Numbering                   Name of Movie  \\\n",
      "0             1            Edgar's Lunch (1998)   \n",
      "1             2        La guerra de papá (1977)   \n",
      "2             3     Off the Beaten Track (2010)   \n",
      "3             4          Meu Amigo Hindu (2015)   \n",
      "4             5               Er nu zhai (1955)   \n",
      "...         ...                             ...   \n",
      "54195     54196  \"Tales of Light & Dark\" (2013)   \n",
      "54196     54197     Der letzte Mohikaner (1965)   \n",
      "54197     54198             Oliver Twink (2007)   \n",
      "54198     54199               Slipstream (1973)   \n",
      "54199     54200       Curitiba Zero Grau (2010)   \n",
      "\n",
      "                                             Description  \n",
      "0      L.R. Brane loves his life - his car, his apart...  \n",
      "1      Spain, March 1964: Quico is a very naughty chi...  \n",
      "2      One year in the life of Albin and his family o...  \n",
      "3      His father has died, he hasn't spoken with his...  \n",
      "4      Before he was known internationally as a marti...  \n",
      "...                                                  ...  \n",
      "54195  Covering multiple genres, Tales of Light & Dar...  \n",
      "54196  As Alice and Cora Munro attempt to find their ...  \n",
      "54197  A movie 169 years in the making. Oliver Twist,...  \n",
      "54198  Popular, but mysterious rock D.J Mike Mallard ...  \n",
      "54199  Curitiba is a city in movement, with rhythms a...  \n",
      "\n",
      "[54200 rows x 3 columns]\n"
     ]
    }
   ],
   "source": [
    "# Read the entire dataset from the text file\n",
    "with open('test_data.txt', 'r', encoding='utf-8') as file:\n",
    "    lines = file.readlines()\n",
    "\n",
    "# Extract movie details from each line and create a list of dictionaries\n",
    "data = []\n",
    "for line in lines:\n",
    "    parts = line.strip().split(' ::: ')\n",
    "    movie_data = {\n",
    "        'Numbering': parts[0],\n",
    "        'Name of Movie': parts[1],\n",
    "        'Description': parts[2]\n",
    "    }\n",
    "    data.append(movie_data)\n",
    "\n",
    "# Create a pandas DataFrame\n",
    "test_df = pd.DataFrame(data)\n",
    "\n",
    "# Print the DataFrame\n",
    "print(test_df)\n"
   ]
  },
  {
   "cell_type": "code",
   "execution_count": 105,
   "metadata": {},
   "outputs": [
    {
     "data": {
      "text/html": [
       "<div>\n",
       "<style scoped>\n",
       "    .dataframe tbody tr th:only-of-type {\n",
       "        vertical-align: middle;\n",
       "    }\n",
       "\n",
       "    .dataframe tbody tr th {\n",
       "        vertical-align: top;\n",
       "    }\n",
       "\n",
       "    .dataframe thead th {\n",
       "        text-align: right;\n",
       "    }\n",
       "</style>\n",
       "<table border=\"1\" class=\"dataframe\">\n",
       "  <thead>\n",
       "    <tr style=\"text-align: right;\">\n",
       "      <th></th>\n",
       "      <th>Numbering</th>\n",
       "      <th>Name of Movie</th>\n",
       "      <th>Genre</th>\n",
       "      <th>Description</th>\n",
       "    </tr>\n",
       "  </thead>\n",
       "  <tbody>\n",
       "    <tr>\n",
       "      <th>0</th>\n",
       "      <td>1</td>\n",
       "      <td>Oscar et la dame rose (2009)</td>\n",
       "      <td>drama</td>\n",
       "      <td>Listening in to a conversation between his doc...</td>\n",
       "    </tr>\n",
       "    <tr>\n",
       "      <th>1</th>\n",
       "      <td>2</td>\n",
       "      <td>Cupid (1997)</td>\n",
       "      <td>thriller</td>\n",
       "      <td>A brother and sister with a past incestuous re...</td>\n",
       "    </tr>\n",
       "    <tr>\n",
       "      <th>2</th>\n",
       "      <td>3</td>\n",
       "      <td>Young, Wild and Wonderful (1980)</td>\n",
       "      <td>adult</td>\n",
       "      <td>As the bus empties the students for their fiel...</td>\n",
       "    </tr>\n",
       "    <tr>\n",
       "      <th>3</th>\n",
       "      <td>4</td>\n",
       "      <td>The Secret Sin (1915)</td>\n",
       "      <td>drama</td>\n",
       "      <td>To help their unemployed father make ends meet...</td>\n",
       "    </tr>\n",
       "    <tr>\n",
       "      <th>4</th>\n",
       "      <td>5</td>\n",
       "      <td>The Unrecovered (2007)</td>\n",
       "      <td>drama</td>\n",
       "      <td>The film's title refers not only to the un-rec...</td>\n",
       "    </tr>\n",
       "  </tbody>\n",
       "</table>\n",
       "</div>"
      ],
      "text/plain": [
       "  Numbering                     Name of Movie     Genre  \\\n",
       "0         1      Oscar et la dame rose (2009)     drama   \n",
       "1         2                      Cupid (1997)  thriller   \n",
       "2         3  Young, Wild and Wonderful (1980)     adult   \n",
       "3         4             The Secret Sin (1915)     drama   \n",
       "4         5            The Unrecovered (2007)     drama   \n",
       "\n",
       "                                         Description  \n",
       "0  Listening in to a conversation between his doc...  \n",
       "1  A brother and sister with a past incestuous re...  \n",
       "2  As the bus empties the students for their fiel...  \n",
       "3  To help their unemployed father make ends meet...  \n",
       "4  The film's title refers not only to the un-rec...  "
      ]
     },
     "execution_count": 105,
     "metadata": {},
     "output_type": "execute_result"
    }
   ],
   "source": [
    "df.head()"
   ]
  },
  {
   "cell_type": "code",
   "execution_count": 106,
   "metadata": {},
   "outputs": [],
   "source": [
    "\n",
    "\n",
    "# Assuming you already have df DataFrame with the columns Numbering, Name of Movie, Genre, Description\n",
    "X = df['Description']\n",
    "y = df['Genre']\n"
   ]
  },
  {
   "cell_type": "code",
   "execution_count": 107,
   "metadata": {},
   "outputs": [],
   "source": [
    "from sklearn.model_selection import train_test_split\n",
    "\n",
    "# Split the data into training and testing sets\n",
    "X_train, X_test, y_train, y_test = train_test_split(X, y, test_size=0.2, random_state=42)\n"
   ]
  },
  {
   "cell_type": "code",
   "execution_count": 108,
   "metadata": {},
   "outputs": [],
   "source": [
    "from sklearn.feature_extraction.text import TfidfVectorizer\n",
    "\n",
    "# Initialize the TF-IDF vectorizer\n",
    "tfidf_vectorizer = TfidfVectorizer(max_features=5000)\n",
    "\n",
    "# Fit and transform the training data\n",
    "X_train_tfidf = tfidf_vectorizer.fit_transform(X_train)\n",
    "\n",
    "# Transform the testing data\n",
    "X_test_tfidf = tfidf_vectorizer.transform(X_test)\n"
   ]
  },
  {
   "cell_type": "code",
   "execution_count": 109,
   "metadata": {},
   "outputs": [
    {
     "data": {
      "text/html": [
       "<style>#sk-container-id-5 {color: black;background-color: white;}#sk-container-id-5 pre{padding: 0;}#sk-container-id-5 div.sk-toggleable {background-color: white;}#sk-container-id-5 label.sk-toggleable__label {cursor: pointer;display: block;width: 100%;margin-bottom: 0;padding: 0.3em;box-sizing: border-box;text-align: center;}#sk-container-id-5 label.sk-toggleable__label-arrow:before {content: \"▸\";float: left;margin-right: 0.25em;color: #696969;}#sk-container-id-5 label.sk-toggleable__label-arrow:hover:before {color: black;}#sk-container-id-5 div.sk-estimator:hover label.sk-toggleable__label-arrow:before {color: black;}#sk-container-id-5 div.sk-toggleable__content {max-height: 0;max-width: 0;overflow: hidden;text-align: left;background-color: #f0f8ff;}#sk-container-id-5 div.sk-toggleable__content pre {margin: 0.2em;color: black;border-radius: 0.25em;background-color: #f0f8ff;}#sk-container-id-5 input.sk-toggleable__control:checked~div.sk-toggleable__content {max-height: 200px;max-width: 100%;overflow: auto;}#sk-container-id-5 input.sk-toggleable__control:checked~label.sk-toggleable__label-arrow:before {content: \"▾\";}#sk-container-id-5 div.sk-estimator input.sk-toggleable__control:checked~label.sk-toggleable__label {background-color: #d4ebff;}#sk-container-id-5 div.sk-label input.sk-toggleable__control:checked~label.sk-toggleable__label {background-color: #d4ebff;}#sk-container-id-5 input.sk-hidden--visually {border: 0;clip: rect(1px 1px 1px 1px);clip: rect(1px, 1px, 1px, 1px);height: 1px;margin: -1px;overflow: hidden;padding: 0;position: absolute;width: 1px;}#sk-container-id-5 div.sk-estimator {font-family: monospace;background-color: #f0f8ff;border: 1px dotted black;border-radius: 0.25em;box-sizing: border-box;margin-bottom: 0.5em;}#sk-container-id-5 div.sk-estimator:hover {background-color: #d4ebff;}#sk-container-id-5 div.sk-parallel-item::after {content: \"\";width: 100%;border-bottom: 1px solid gray;flex-grow: 1;}#sk-container-id-5 div.sk-label:hover label.sk-toggleable__label {background-color: #d4ebff;}#sk-container-id-5 div.sk-serial::before {content: \"\";position: absolute;border-left: 1px solid gray;box-sizing: border-box;top: 0;bottom: 0;left: 50%;z-index: 0;}#sk-container-id-5 div.sk-serial {display: flex;flex-direction: column;align-items: center;background-color: white;padding-right: 0.2em;padding-left: 0.2em;position: relative;}#sk-container-id-5 div.sk-item {position: relative;z-index: 1;}#sk-container-id-5 div.sk-parallel {display: flex;align-items: stretch;justify-content: center;background-color: white;position: relative;}#sk-container-id-5 div.sk-item::before, #sk-container-id-5 div.sk-parallel-item::before {content: \"\";position: absolute;border-left: 1px solid gray;box-sizing: border-box;top: 0;bottom: 0;left: 50%;z-index: -1;}#sk-container-id-5 div.sk-parallel-item {display: flex;flex-direction: column;z-index: 1;position: relative;background-color: white;}#sk-container-id-5 div.sk-parallel-item:first-child::after {align-self: flex-end;width: 50%;}#sk-container-id-5 div.sk-parallel-item:last-child::after {align-self: flex-start;width: 50%;}#sk-container-id-5 div.sk-parallel-item:only-child::after {width: 0;}#sk-container-id-5 div.sk-dashed-wrapped {border: 1px dashed gray;margin: 0 0.4em 0.5em 0.4em;box-sizing: border-box;padding-bottom: 0.4em;background-color: white;}#sk-container-id-5 div.sk-label label {font-family: monospace;font-weight: bold;display: inline-block;line-height: 1.2em;}#sk-container-id-5 div.sk-label-container {text-align: center;}#sk-container-id-5 div.sk-container {/* jupyter's `normalize.less` sets `[hidden] { display: none; }` but bootstrap.min.css set `[hidden] { display: none !important; }` so we also need the `!important` here to be able to override the default hidden behavior on the sphinx rendered scikit-learn.org. See: https://github.com/scikit-learn/scikit-learn/issues/21755 */display: inline-block !important;position: relative;}#sk-container-id-5 div.sk-text-repr-fallback {display: none;}</style><div id=\"sk-container-id-5\" class=\"sk-top-container\"><div class=\"sk-text-repr-fallback\"><pre>MultinomialNB()</pre><b>In a Jupyter environment, please rerun this cell to show the HTML representation or trust the notebook. <br />On GitHub, the HTML representation is unable to render, please try loading this page with nbviewer.org.</b></div><div class=\"sk-container\" hidden><div class=\"sk-item\"><div class=\"sk-estimator sk-toggleable\"><input class=\"sk-toggleable__control sk-hidden--visually\" id=\"sk-estimator-id-5\" type=\"checkbox\" checked><label for=\"sk-estimator-id-5\" class=\"sk-toggleable__label sk-toggleable__label-arrow\">MultinomialNB</label><div class=\"sk-toggleable__content\"><pre>MultinomialNB()</pre></div></div></div></div></div>"
      ],
      "text/plain": [
       "MultinomialNB()"
      ]
     },
     "execution_count": 109,
     "metadata": {},
     "output_type": "execute_result"
    }
   ],
   "source": [
    "from sklearn.naive_bayes import MultinomialNB\n",
    "\n",
    "# Initialize and train the Naive Bayes classifier\n",
    "naive_bayes_classifier = MultinomialNB()\n",
    "naive_bayes_classifier.fit(X_train_tfidf, y_train)\n"
   ]
  },
  {
   "cell_type": "code",
   "execution_count": 110,
   "metadata": {},
   "outputs": [
    {
     "name": "stdout",
     "output_type": "stream",
     "text": [
      "Accuracy: 0.5111131605644195\n",
      "Classification Report:\n",
      "               precision    recall  f1-score   support\n",
      "\n",
      "      action       0.58      0.05      0.10       263\n",
      "       adult       0.67      0.02      0.03       112\n",
      "   adventure       0.38      0.02      0.04       139\n",
      "   animation       0.00      0.00      0.00       104\n",
      "   biography       0.00      0.00      0.00        61\n",
      "      comedy       0.51      0.40      0.45      1443\n",
      "       crime       0.00      0.00      0.00       107\n",
      " documentary       0.57      0.89      0.69      2659\n",
      "       drama       0.44      0.83      0.58      2697\n",
      "      family       0.00      0.00      0.00       150\n",
      "     fantasy       0.00      0.00      0.00        74\n",
      "   game-show       1.00      0.03      0.05        40\n",
      "     history       0.00      0.00      0.00        45\n",
      "      horror       0.76      0.26      0.39       431\n",
      "       music       0.92      0.08      0.15       144\n",
      "     musical       0.00      0.00      0.00        50\n",
      "     mystery       0.00      0.00      0.00        56\n",
      "        news       0.00      0.00      0.00        34\n",
      "  reality-tv       1.00      0.02      0.03       192\n",
      "     romance       0.00      0.00      0.00       151\n",
      "      sci-fi       1.00      0.01      0.01       143\n",
      "       short       0.66      0.08      0.14      1045\n",
      "       sport       0.73      0.09      0.15        93\n",
      "   talk-show       0.00      0.00      0.00        81\n",
      "    thriller       0.36      0.01      0.03       309\n",
      "         war       0.00      0.00      0.00        20\n",
      "     western       0.99      0.48      0.65       200\n",
      "\n",
      "    accuracy                           0.51     10843\n",
      "   macro avg       0.39      0.12      0.13     10843\n",
      "weighted avg       0.52      0.51      0.42     10843\n",
      "\n"
     ]
    },
    {
     "name": "stderr",
     "output_type": "stream",
     "text": [
      "c:\\Users\\96659\\AppData\\Local\\Programs\\Python\\Python310\\lib\\site-packages\\sklearn\\metrics\\_classification.py:1334: UndefinedMetricWarning: Precision and F-score are ill-defined and being set to 0.0 in labels with no predicted samples. Use `zero_division` parameter to control this behavior.\n",
      "  _warn_prf(average, modifier, msg_start, len(result))\n",
      "c:\\Users\\96659\\AppData\\Local\\Programs\\Python\\Python310\\lib\\site-packages\\sklearn\\metrics\\_classification.py:1334: UndefinedMetricWarning: Precision and F-score are ill-defined and being set to 0.0 in labels with no predicted samples. Use `zero_division` parameter to control this behavior.\n",
      "  _warn_prf(average, modifier, msg_start, len(result))\n",
      "c:\\Users\\96659\\AppData\\Local\\Programs\\Python\\Python310\\lib\\site-packages\\sklearn\\metrics\\_classification.py:1334: UndefinedMetricWarning: Precision and F-score are ill-defined and being set to 0.0 in labels with no predicted samples. Use `zero_division` parameter to control this behavior.\n",
      "  _warn_prf(average, modifier, msg_start, len(result))\n"
     ]
    }
   ],
   "source": [
    "from sklearn.metrics import accuracy_score, classification_report\n",
    "\n",
    "# Make predictions on the test data\n",
    "y_pred = naive_bayes_classifier.predict(X_test_tfidf)\n",
    "\n",
    "# Calculate accuracy and print the classification report\n",
    "accuracy = accuracy_score(y_test, y_pred)\n",
    "print(\"Accuracy:\", accuracy)\n",
    "print(\"Classification Report:\\n\", classification_report(y_test, y_pred))\n"
   ]
  },
  {
   "cell_type": "code",
   "execution_count": 111,
   "metadata": {},
   "outputs": [
    {
     "name": "stdout",
     "output_type": "stream",
     "text": [
      "Predicted Genre: documentary\n"
     ]
    }
   ],
   "source": [
    "# Example of predicting the genre for a new movie's plot summary\n",
    "new_movie_plot_summary = \"A group of friends embark on a thrilling adventure.\"\n",
    "new_movie_tfidf = tfidf_vectorizer.transform([new_movie_plot_summary])\n",
    "predicted_genre = naive_bayes_classifier.predict(new_movie_tfidf)\n",
    "\n",
    "print(\"Predicted Genre:\", predicted_genre[0])\n"
   ]
  },
  {
   "cell_type": "code",
   "execution_count": 112,
   "metadata": {},
   "outputs": [
    {
     "data": {
      "text/html": [
       "<div>\n",
       "<style scoped>\n",
       "    .dataframe tbody tr th:only-of-type {\n",
       "        vertical-align: middle;\n",
       "    }\n",
       "\n",
       "    .dataframe tbody tr th {\n",
       "        vertical-align: top;\n",
       "    }\n",
       "\n",
       "    .dataframe thead th {\n",
       "        text-align: right;\n",
       "    }\n",
       "</style>\n",
       "<table border=\"1\" class=\"dataframe\">\n",
       "  <thead>\n",
       "    <tr style=\"text-align: right;\">\n",
       "      <th></th>\n",
       "      <th>Numbering</th>\n",
       "      <th>Name of Movie</th>\n",
       "      <th>Description</th>\n",
       "    </tr>\n",
       "  </thead>\n",
       "  <tbody>\n",
       "    <tr>\n",
       "      <th>0</th>\n",
       "      <td>1</td>\n",
       "      <td>Edgar's Lunch (1998)</td>\n",
       "      <td>L.R. Brane loves his life - his car, his apart...</td>\n",
       "    </tr>\n",
       "    <tr>\n",
       "      <th>1</th>\n",
       "      <td>2</td>\n",
       "      <td>La guerra de papá (1977)</td>\n",
       "      <td>Spain, March 1964: Quico is a very naughty chi...</td>\n",
       "    </tr>\n",
       "    <tr>\n",
       "      <th>2</th>\n",
       "      <td>3</td>\n",
       "      <td>Off the Beaten Track (2010)</td>\n",
       "      <td>One year in the life of Albin and his family o...</td>\n",
       "    </tr>\n",
       "    <tr>\n",
       "      <th>3</th>\n",
       "      <td>4</td>\n",
       "      <td>Meu Amigo Hindu (2015)</td>\n",
       "      <td>His father has died, he hasn't spoken with his...</td>\n",
       "    </tr>\n",
       "    <tr>\n",
       "      <th>4</th>\n",
       "      <td>5</td>\n",
       "      <td>Er nu zhai (1955)</td>\n",
       "      <td>Before he was known internationally as a marti...</td>\n",
       "    </tr>\n",
       "  </tbody>\n",
       "</table>\n",
       "</div>"
      ],
      "text/plain": [
       "  Numbering                Name of Movie  \\\n",
       "0         1         Edgar's Lunch (1998)   \n",
       "1         2     La guerra de papá (1977)   \n",
       "2         3  Off the Beaten Track (2010)   \n",
       "3         4       Meu Amigo Hindu (2015)   \n",
       "4         5            Er nu zhai (1955)   \n",
       "\n",
       "                                         Description  \n",
       "0  L.R. Brane loves his life - his car, his apart...  \n",
       "1  Spain, March 1964: Quico is a very naughty chi...  \n",
       "2  One year in the life of Albin and his family o...  \n",
       "3  His father has died, he hasn't spoken with his...  \n",
       "4  Before he was known internationally as a marti...  "
      ]
     },
     "execution_count": 112,
     "metadata": {},
     "output_type": "execute_result"
    }
   ],
   "source": [
    "test_df.head()"
   ]
  },
  {
   "cell_type": "code",
   "execution_count": 113,
   "metadata": {},
   "outputs": [
    {
     "name": "stdout",
     "output_type": "stream",
     "text": [
      "      Numbering                   Name of Movie  \\\n",
      "0             1            Edgar's Lunch (1998)   \n",
      "1             2        La guerra de papá (1977)   \n",
      "2             3     Off the Beaten Track (2010)   \n",
      "3             4          Meu Amigo Hindu (2015)   \n",
      "4             5               Er nu zhai (1955)   \n",
      "...         ...                             ...   \n",
      "54195     54196  \"Tales of Light & Dark\" (2013)   \n",
      "54196     54197     Der letzte Mohikaner (1965)   \n",
      "54197     54198             Oliver Twink (2007)   \n",
      "54198     54199               Slipstream (1973)   \n",
      "54199     54200       Curitiba Zero Grau (2010)   \n",
      "\n",
      "                                             Description Predicted Genre  \n",
      "0      L.R. Brane loves his life - his car, his apart...           drama  \n",
      "1      Spain, March 1964: Quico is a very naughty chi...           drama  \n",
      "2      One year in the life of Albin and his family o...     documentary  \n",
      "3      His father has died, he hasn't spoken with his...           drama  \n",
      "4      Before he was known internationally as a marti...           drama  \n",
      "...                                                  ...             ...  \n",
      "54195  Covering multiple genres, Tales of Light & Dar...           drama  \n",
      "54196  As Alice and Cora Munro attempt to find their ...           drama  \n",
      "54197  A movie 169 years in the making. Oliver Twist,...          comedy  \n",
      "54198  Popular, but mysterious rock D.J Mike Mallard ...           drama  \n",
      "54199  Curitiba is a city in movement, with rhythms a...     documentary  \n",
      "\n",
      "[54200 rows x 4 columns]\n"
     ]
    }
   ],
   "source": [
    "# Assuming you already have the test_df DataFrame\n",
    "\n",
    "# Extract the \"Description\" column from the test dataset\n",
    "X_test_new = test_df['Description']\n",
    "\n",
    "# Transform the test data into TF-IDF vectors using the same vectorizer fitted on the training data\n",
    "X_test_new_tfidf = tfidf_vectorizer.transform(X_test_new)\n",
    "\n",
    "# Make predictions on the test data using the trained classifier\n",
    "y_pred_new = naive_bayes_classifier.predict(X_test_new_tfidf)\n",
    "\n",
    "# Add the predicted genres to the test_df DataFrame\n",
    "test_df['Predicted Genre'] = y_pred_new\n",
    "\n",
    "# Print the test_df DataFrame with the predicted genres\n",
    "print(test_df)\n"
   ]
  },
  {
   "cell_type": "code",
   "execution_count": 114,
   "metadata": {},
   "outputs": [
    {
     "name": "stdout",
     "output_type": "stream",
     "text": [
      "                                             Description Predicted Genre\n",
      "0      L.R. Brane loves his life - his car, his apart...           drama\n",
      "1      Spain, March 1964: Quico is a very naughty chi...           drama\n",
      "2      One year in the life of Albin and his family o...     documentary\n",
      "3      His father has died, he hasn't spoken with his...           drama\n",
      "4      Before he was known internationally as a marti...           drama\n",
      "...                                                  ...             ...\n",
      "54195  Covering multiple genres, Tales of Light & Dar...           drama\n",
      "54196  As Alice and Cora Munro attempt to find their ...           drama\n",
      "54197  A movie 169 years in the making. Oliver Twist,...          comedy\n",
      "54198  Popular, but mysterious rock D.J Mike Mallard ...           drama\n",
      "54199  Curitiba is a city in movement, with rhythms a...     documentary\n",
      "\n",
      "[54200 rows x 2 columns]\n"
     ]
    }
   ],
   "source": [
    "print(test_df[['Description', 'Predicted Genre']])\n"
   ]
  },
  {
   "cell_type": "code",
   "execution_count": 118,
   "metadata": {},
   "outputs": [
    {
     "name": "stdout",
     "output_type": "stream",
     "text": [
      "\n"
     ]
    }
   ],
   "source": [
    "\n",
    "test_df[['Name of Movie', 'Predicted Genre']].to_csv('solution.txt', index=False)\n",
    "with open('solution.txt', 'r', encoding='utf-8') as file:\n",
    "    print()"
   ]
  },
  {
   "cell_type": "code",
   "execution_count": null,
   "metadata": {},
   "outputs": [],
   "source": []
  }
 ],
 "metadata": {
  "kernelspec": {
   "display_name": "Python 3",
   "language": "python",
   "name": "python3"
  },
  "language_info": {
   "codemirror_mode": {
    "name": "ipython",
    "version": 3
   },
   "file_extension": ".py",
   "mimetype": "text/x-python",
   "name": "python",
   "nbconvert_exporter": "python",
   "pygments_lexer": "ipython3",
   "version": "3.10.10"
  },
  "orig_nbformat": 4
 },
 "nbformat": 4,
 "nbformat_minor": 2
}
